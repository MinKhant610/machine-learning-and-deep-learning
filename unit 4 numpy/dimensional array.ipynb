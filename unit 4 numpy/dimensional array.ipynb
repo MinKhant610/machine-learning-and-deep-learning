{
 "cells": [
  {
   "cell_type": "code",
   "execution_count": 3,
   "metadata": {},
   "outputs": [
    {
     "name": "stdout",
     "output_type": "stream",
     "text": [
      "first stage array : [0 1 2 3 4 5 6 7]\n",
      "dimension of arr : 1\n"
     ]
    }
   ],
   "source": [
    "import numpy as np \n",
    "arr = np.arange(8)\n",
    "print ('first stage array :',arr)\n",
    "print ('dimension of arr :',arr.ndim)"
   ]
  },
  {
   "cell_type": "code",
   "execution_count": 5,
   "metadata": {},
   "outputs": [
    {
     "name": "stdout",
     "output_type": "stream",
     "text": [
      "[[0 1 2 3]\n",
      " [4 5 6 7]]\n",
      "dimension of arr2d : 2\n"
     ]
    }
   ],
   "source": [
    "import numpy as np\n",
    "arr = np.arange(8)\n",
    "arr2d = arr.reshape(2,4)\n",
    "print (arr2d)\n",
    "print ('dimension of arr2d :',arr2d.ndim)\n",
    "#1 + 1 depth = (3dimension)"
   ]
  },
  {
   "cell_type": "code",
   "execution_count": 8,
   "metadata": {},
   "outputs": [
    {
     "name": "stdout",
     "output_type": "stream",
     "text": [
      "[[[0 1]\n",
      "  [2 3]]\n",
      "\n",
      " [[4 5]\n",
      "  [6 7]]]\n",
      "dim of arr3d : 3\n"
     ]
    }
   ],
   "source": [
    "import numpy as np\n",
    "arr = np.arange(8)\n",
    "arr3d = arr.reshape(2,2,2) #last 2 is 2 depth\n",
    "print (arr3d)\n",
    "print ('dim of arr3d :',arr3d.ndim)"
   ]
  },
  {
   "cell_type": "code",
   "execution_count": 13,
   "metadata": {},
   "outputs": [
    {
     "name": "stdout",
     "output_type": "stream",
     "text": [
      "[[0 1 2 3 4]\n",
      " [5 6 7 8 9]]\n",
      "dim of arr2d is : 2\n"
     ]
    }
   ],
   "source": [
    "import numpy as np\n",
    "arr = np.arange (10)\n",
    "arr2d = arr.reshape(2,5)\n",
    "print (arr2d)\n",
    "print ('dim of arr2d is :',arr2d.ndim)"
   ]
  },
  {
   "cell_type": "code",
   "execution_count": null,
   "metadata": {},
   "outputs": [],
   "source": []
  }
 ],
 "metadata": {
  "kernelspec": {
   "display_name": "Python 3",
   "language": "python",
   "name": "python3"
  },
  "language_info": {
   "codemirror_mode": {
    "name": "ipython",
    "version": 3
   },
   "file_extension": ".py",
   "mimetype": "text/x-python",
   "name": "python",
   "nbconvert_exporter": "python",
   "pygments_lexer": "ipython3",
   "version": "3.8.5"
  }
 },
 "nbformat": 4,
 "nbformat_minor": 4
}
