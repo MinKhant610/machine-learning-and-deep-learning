{
 "cells": [
  {
   "cell_type": "code",
   "execution_count": 2,
   "metadata": {},
   "outputs": [
    {
     "name": "stdout",
     "output_type": "stream",
     "text": [
      "[1 2 3 4]\n",
      "<class 'numpy.ndarray'>\n"
     ]
    }
   ],
   "source": [
    "import numpy as np\n",
    "dlist = [1,2,3,4]\n",
    "\n",
    "arr = np.fromiter(dlist , dtype = int)\n",
    "print (arr)\n",
    "print (type(arr))"
   ]
  },
  {
   "cell_type": "markdown",
   "metadata": {},
   "source": [
    "# arange incremental sequence"
   ]
  },
  {
   "cell_type": "code",
   "execution_count": 3,
   "metadata": {},
   "outputs": [
    {
     "name": "stdout",
     "output_type": "stream",
     "text": [
      "[ 1  3  5  7  9 11 13 15 17 19]\n",
      "<class 'numpy.ndarray'>\n"
     ]
    }
   ],
   "source": [
    "arrobj = np.arange(1,20,2)\n",
    "print (arrobj)\n",
    "print (type(arrobj))"
   ]
  },
  {
   "cell_type": "markdown",
   "metadata": {},
   "source": [
    "# linspace incremental sequence non-integer"
   ]
  },
  {
   "cell_type": "code",
   "execution_count": 34,
   "metadata": {},
   "outputs": [
    {
     "name": "stdout",
     "output_type": "stream",
     "text": [
      "[ 0. 10. 20.]\n"
     ]
    }
   ],
   "source": [
    "arrobj = np.linspace (0 ,20 ,3) #count\n",
    "print (arrobj)"
   ]
  },
  {
   "cell_type": "code",
   "execution_count": 6,
   "metadata": {
    "scrolled": true
   },
   "outputs": [
    {
     "name": "stdout",
     "output_type": "stream",
     "text": [
      "[ 0.          1.81818182  3.63636364  5.45454545  7.27272727  9.09090909\n",
      " 10.90909091 12.72727273 14.54545455 16.36363636 18.18181818 20.        ] \n",
      "\n",
      "[[[ 0.          1.81818182]\n",
      "  [ 3.63636364  5.45454545]\n",
      "  [ 7.27272727  9.09090909]]\n",
      "\n",
      " [[10.90909091 12.72727273]\n",
      "  [14.54545455 16.36363636]\n",
      "  [18.18181818 20.        ]]] \n",
      "\n",
      "3\n"
     ]
    }
   ],
   "source": [
    "arrobj = np.linspace (0 ,20 ,12) #count\n",
    "arr = arrobj.reshape(2,3,2)\n",
    "print (arrobj,'\\n')\n",
    "print (arr,'\\n')\n",
    "print (arr.ndim)"
   ]
  },
  {
   "cell_type": "code",
   "execution_count": null,
   "metadata": {},
   "outputs": [],
   "source": []
  }
 ],
 "metadata": {
  "kernelspec": {
   "display_name": "Python 3",
   "language": "python",
   "name": "python3"
  },
  "language_info": {
   "codemirror_mode": {
    "name": "ipython",
    "version": 3
   },
   "file_extension": ".py",
   "mimetype": "text/x-python",
   "name": "python",
   "nbconvert_exporter": "python",
   "pygments_lexer": "ipython3",
   "version": "3.8.5"
  }
 },
 "nbformat": 4,
 "nbformat_minor": 4
}
